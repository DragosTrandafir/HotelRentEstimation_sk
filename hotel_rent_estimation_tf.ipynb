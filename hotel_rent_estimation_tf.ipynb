{
 "cells": [
  {
   "cell_type": "code",
   "execution_count": 1,
   "id": "4c7b91e7-b555-4aad-9e43-012830c1c9c0",
   "metadata": {},
   "outputs": [],
   "source": [
    "import numpy as np # arrays & loading data\n",
    "\n",
    "from sklearn.linear_model import LinearRegression # linear regression class from sklearn library\n",
    "from sklearn.model_selection import train_test_split # we will split the data in 3 (training + counter variation + testing data)\n"
   ]
  },
  {
   "cell_type": "code",
   "execution_count": 10,
   "id": "86c54f4c-fbc1-40c8-95d8-323546a6bc99",
   "metadata": {},
   "outputs": [
    {
     "name": "stdout",
     "output_type": "stream",
     "text": [
      "shape of input X is: (25, 3)\n",
      "shape of output y is: (25,)\n"
     ]
    }
   ],
   "source": [
    "# loading all the data\n",
    "data = np.loadtxt('./hotel_data.csv', delimiter=',', skiprows=1, usecols=range(1, 5))\n",
    "\n",
    "X = data[:,0:3] # forming the inpu and output \n",
    "y= data[:,3]\n",
    "\n",
    "print(f\"shape of input X is: {X.shape}\")\n",
    "print(f\"shape of output y is: {y.shape}\")\n",
    "\n"
   ]
  },
  {
   "cell_type": "code",
   "execution_count": 12,
   "id": "3e3e7851-0e1e-44a9-9919-c31328b25a85",
   "metadata": {},
   "outputs": [
    {
     "name": "stdout",
     "output_type": "stream",
     "text": [
      "training input shape:(15, 3)\n",
      "training output shape:(15,)\n",
      "cv input shape:(5, 3)\n",
      "cv output shape:(5,)\n",
      "test input shape:(5, 3)\n",
      "test output shape:(5,)\n"
     ]
    }
   ],
   "source": [
    "# split into training , cross validation and test sets\n",
    "\n",
    "# TRAINING SET - 60%\n",
    "X_train, X_temporary, y_train, y_temporary = train_test_split(X, y, test_size=0.40, random_state=1)\n",
    "\n",
    "# the rest of 40% - CV SET(20%) and TEST SET(20%)\n",
    "X_cv, X_test, y_cv, y_test = train_test_split(X_temporary, y_temporary, test_size=0.50, random_state=1)\n",
    "del X_temporary, y_temporary\n",
    "\n",
    "print(f\"training input shape:{X_train.shape}\")\n",
    "print(f\"training output shape:{y_train.shape}\")\n",
    "print(f\"cv input shape:{X_cv.shape}\")\n",
    "print(f\"cv output shape:{y_cv.shape}\")\n",
    "print(f\"test input shape:{X_test.shape}\")\n",
    "print(f\"test output shape:{y_test.shape}\")"
   ]
  },
  {
   "cell_type": "code",
   "execution_count": null,
   "id": "38497053-7059-4a1f-aae3-b225612fc80c",
   "metadata": {},
   "outputs": [],
   "source": []
  }
 ],
 "metadata": {
  "kernelspec": {
   "display_name": "Python 3 (ipykernel)",
   "language": "python",
   "name": "python3"
  },
  "language_info": {
   "codemirror_mode": {
    "name": "ipython",
    "version": 3
   },
   "file_extension": ".py",
   "mimetype": "text/x-python",
   "name": "python",
   "nbconvert_exporter": "python",
   "pygments_lexer": "ipython3",
   "version": "3.12.0"
  }
 },
 "nbformat": 4,
 "nbformat_minor": 5
}
