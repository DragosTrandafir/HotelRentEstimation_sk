{
 "cells": [
  {
   "cell_type": "code",
   "execution_count": 1,
   "id": "4c7b91e7-b555-4aad-9e43-012830c1c9c0",
   "metadata": {},
   "outputs": [],
   "source": [
    "import numpy as np # arrays & loading data\n",
    "\n",
    "from sklearn.linear_model import LinearRegression # linear regression class from sklearn library\n",
    "from sklearn.model_selection import train_test_split # we will split the data in 3 (training + counter variation + testing data)\n"
   ]
  },
  {
   "cell_type": "code",
   "execution_count": 10,
   "id": "86c54f4c-fbc1-40c8-95d8-323546a6bc99",
   "metadata": {},
   "outputs": [
    {
     "name": "stdout",
     "output_type": "stream",
     "text": [
      "shape of input X is: (25, 3)\n",
      "shape of output y is: (25,)\n"
     ]
    }
   ],
   "source": [
    "# loading all the data\n",
    "data = np.loadtxt('./hotel_data.csv', delimiter=',', skiprows=1, usecols=range(1, 5))\n",
    "\n",
    "X = data[:,0:3] # forming the inpu and output \n",
    "y= data[:,3]\n",
    "\n",
    "print(f\"shape of input X is: {X.shape}\")\n",
    "print(f\"shape of output y is: {y.shape}\")\n",
    "\n"
   ]
  },
  {
   "cell_type": "code",
   "execution_count": null,
   "id": "3e3e7851-0e1e-44a9-9919-c31328b25a85",
   "metadata": {},
   "outputs": [],
   "source": []
  }
 ],
 "metadata": {
  "kernelspec": {
   "display_name": "Python 3 (ipykernel)",
   "language": "python",
   "name": "python3"
  },
  "language_info": {
   "codemirror_mode": {
    "name": "ipython",
    "version": 3
   },
   "file_extension": ".py",
   "mimetype": "text/x-python",
   "name": "python",
   "nbconvert_exporter": "python",
   "pygments_lexer": "ipython3",
   "version": "3.12.0"
  }
 },
 "nbformat": 4,
 "nbformat_minor": 5
}
