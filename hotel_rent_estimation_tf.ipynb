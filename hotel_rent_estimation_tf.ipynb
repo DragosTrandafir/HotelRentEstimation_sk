{
 "cells": [
  {
   "cell_type": "code",
   "execution_count": 1,
   "id": "4c7b91e7-b555-4aad-9e43-012830c1c9c0",
   "metadata": {},
   "outputs": [],
   "source": [
    "import numpy as np # arrays & loading data\n",
    "\n",
    "from sklearn.linear_model import LinearRegression # linear regression class from sklearn library\n",
    "from sklearn.model_selection import train_test_split # we will split the data in 3 (training + counter variation + testing data)\n"
   ]
  },
  {
   "cell_type": "code",
   "execution_count": 7,
   "id": "86c54f4c-fbc1-40c8-95d8-323546a6bc99",
   "metadata": {},
   "outputs": [
    {
     "name": "stdout",
     "output_type": "stream",
     "text": [
      "[[   6.8 1900.    17.   262. ]\n",
      " [   8.4 1900.    16.   190. ]\n",
      " [   8.4 1900.    20.   220. ]\n",
      " [   8.7 2300.    30.   140. ]\n",
      " [   8.7 2300.    36.   185. ]\n",
      " [   8.6 2300.    20.   171. ]\n",
      " [   7.1 1400.    16.   150. ]\n",
      " [   8.8 2100.    32.   200. ]\n",
      " [   8.7 2000.    25.   220. ]\n",
      " [   7.7 1500.    20.   250. ]\n",
      " [   9.  3300.    15.   130. ]\n",
      " [   8.1 1800.    22.   200. ]\n",
      " [   8.4 2200.    25.   185. ]\n",
      " [   8.9 2300.    30.   195. ]\n",
      " [   8.5 2000.    22.   210. ]\n",
      " [   7.9 1900.    18.   250. ]\n",
      " [   8.  2300.    16.   230. ]\n",
      " [   8.1 2200.    16.   220. ]\n",
      " [   8.6 2500.    18.   160. ]\n",
      " [   8.3 2400.    15.   150. ]\n",
      " [   8.5 2200.    15.   180. ]\n",
      " [   8.9 1000.    18.   250. ]\n",
      " [   8.1 1000.    18.   220. ]\n",
      " [   7.7 1500.    20.   230. ]\n",
      " [   7.6 1700.    18.   210. ]]\n"
     ]
    }
   ],
   "source": [
    "# loading all the data\n",
    "data = np.loadtxt('./hotel_data.csv', delimiter=',', skiprows=1, usecols=range(1, 5))\n",
    "print(data)"
   ]
  },
  {
   "cell_type": "code",
   "execution_count": null,
   "id": "3e3e7851-0e1e-44a9-9919-c31328b25a85",
   "metadata": {},
   "outputs": [],
   "source": []
  }
 ],
 "metadata": {
  "kernelspec": {
   "display_name": "Python 3 (ipykernel)",
   "language": "python",
   "name": "python3"
  },
  "language_info": {
   "codemirror_mode": {
    "name": "ipython",
    "version": 3
   },
   "file_extension": ".py",
   "mimetype": "text/x-python",
   "name": "python",
   "nbconvert_exporter": "python",
   "pygments_lexer": "ipython3",
   "version": "3.12.0"
  }
 },
 "nbformat": 4,
 "nbformat_minor": 5
}
